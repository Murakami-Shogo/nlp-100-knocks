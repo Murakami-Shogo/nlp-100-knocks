{
 "cells": [
  {
   "cell_type": "markdown",
   "metadata": {
    "editable": true,
    "id": "X5YgWh7ldCR4",
    "slideshow": {
     "slide_type": ""
    },
    "tags": []
   },
   "source": [
    "# 第7章: 機械学習\n",
    "\n",
    "本章では、[Stanford Sentiment Treebank (SST)](https://nlp.stanford.edu/sentiment/) データセットを用い、評判分析器（ポジネガ分類器）を構築する。ここでは処理を簡略化するため、[General Language Understanding Evaluation (GLUE)](https://gluebenchmark.com/) ベンチマークで配布されているSSTデータセットを用いる。\n"
   ]
  },
  {
   "cell_type": "markdown",
   "metadata": {
    "id": "xaAFO9l2fE19"
   },
   "source": [
    "## 60. データの入手・整形\n",
    "\n",
    "GLUEのウェブサイトから[SST-2](https://dl.fbaipublicfiles.com/glue/data/SST-2.zip)データセットを取得せよ。学習データ（`train.tsv`）と検証データ（`dev.tsv`）のぞれぞれについて、ポジティブ (1) とネガティブ (0) の事例数をカウントせよ。"
   ]
  },
  {
   "cell_type": "code",
   "execution_count": null,
   "metadata": {},
   "outputs": [
    {
     "name": "stdout",
     "output_type": "stream",
     "text": [
      "--2025-04-20 16:32:12--  https://dl.fbaipublicfiles.com/glue/data/SST-2.zip\n",
      "Resolving dl.fbaipublicfiles.com (dl.fbaipublicfiles.com)... 54.230.175.86, 54.230.175.53, 54.230.175.44, ...\n",
      "Connecting to dl.fbaipublicfiles.com (dl.fbaipublicfiles.com)|54.230.175.86|:443... connected.\n",
      "HTTP request sent, awaiting response... 200 OK\n",
      "Length: 7439277 (7.1M) [application/zip]\n",
      "Saving to: ‘SST-2.zip’\n",
      "\n",
      "SST-2.zip           100%[===================>]   7.09M  29.1MB/s    in 0.2s    \n",
      "\n",
      "2025-04-20 16:32:13 (29.1 MB/s) - ‘SST-2.zip’ saved [7439277/7439277]\n",
      "\n",
      "Archive:  SST-2.zip\n",
      "   creating: SST-2/\n",
      "  inflating: SST-2/dev.tsv           \n",
      "   creating: SST-2/original/\n",
      "  inflating: SST-2/original/README.txt  \n",
      "  inflating: SST-2/original/SOStr.txt  \n",
      "  inflating: SST-2/original/STree.txt  \n",
      "  inflating: SST-2/original/datasetSentences.txt  \n",
      "  inflating: SST-2/original/datasetSplit.txt  \n",
      "  inflating: SST-2/original/dictionary.txt  \n",
      "  inflating: SST-2/original/original_rt_snippets.txt  \n",
      "  inflating: SST-2/original/sentiment_labels.txt  \n",
      "  inflating: SST-2/test.tsv          \n",
      "  inflating: SST-2/train.tsv         \n"
     ]
    }
   ],
   "source": [
    "# !wget https://dl.fbaipublicfiles.com/glue/data/SST-2.zip\n",
    "# !unzip SST-2.zip"
   ]
  },
  {
   "cell_type": "code",
   "execution_count": 3,
   "metadata": {},
   "outputs": [
    {
     "name": "stdout",
     "output_type": "stream",
     "text": [
      "train\tpositive：37569, negative：29780\n",
      "dev\tpositive：  444, negative：  428\n"
     ]
    }
   ],
   "source": [
    "import pandas as pd\n",
    "\n",
    "df_train = pd.read_csv(\"SST-2/train.tsv\", sep=\"\\t\")\n",
    "df_dev = pd.read_csv(\"SST-2/dev.tsv\", sep=\"\\t\")\n",
    "\n",
    "print(\n",
    "    f\"train\\tpositive：{(df_train['label']==1).sum()}, negative：{(df_train['label']==0).sum()}\"\n",
    ")\n",
    "print(\n",
    "    f\"dev\\tpositive：{(df_dev['label']==1).sum():5d}, negative：{(df_dev['label']==0).sum():5d}\"\n",
    ")"
   ]
  },
  {
   "cell_type": "markdown",
   "metadata": {
    "id": "0EY71AIPgmJF"
   },
   "source": [
    "## 61. 特徴ベクトル\n",
    "\n",
    "Bag of Words (BoW) に基づき、学習データ（`train.tsv`）および検証データ（`dev.tsv`）のテキストを特徴ベクトルに変換したい。ここで、ある事例のテキストの特徴ベクトルは、テキスト中に含まれる単語（スペース区切りのトークン）の出現頻度で構成する。例えば、\"too loud , too goofy\"というテキストに対応する特徴ベクトルは、以下のような辞書オブジェクトで表現される。\n",
    "\n",
    "```python\n",
    "{'too': 2, 'loud': 1, ',': 1, 'goofy': 1}\n",
    "```\n",
    "\n",
    "各事例はテキスト、特徴ベクトル、ラベルを格納した辞書オブジェクトでまとめておく。例えば、先ほどの\"too loud , too goofy\"に対してラベル\"0\"（ネガティブ）が付与された事例は、以下のオブジェクトで表現される。\n",
    "\n",
    "```python\n",
    "{'text': 'too loud , too goofy', 'label': '0', 'feature': {'too': 2, 'loud': 1, ',': 1, 'goofy': 1}}\n",
    "```\n",
    "\n",
    "学習データと検証データの各事例を上記のような辞書オブジェクトに変換したうえで、学習データと検証データのそれぞれを、辞書オブジェクトのリストとして表現せよ。さらに、学習データの最初の事例について、正しく特徴ベクトルに変換できたか、目視で確認せよ。"
   ]
  },
  {
   "cell_type": "code",
   "execution_count": 4,
   "metadata": {},
   "outputs": [
    {
     "name": "stdout",
     "output_type": "stream",
     "text": [
      "{'text': 'hide new secretions from the parental units ', 'label': 0, 'feature': {'hide': 1, 'new': 1, 'secretions': 1, 'from': 1, 'the': 1, 'parental': 1, 'units': 1}}\n"
     ]
    }
   ],
   "source": [
    "import numpy as np\n",
    "from collections import Counter\n",
    "\n",
    "\n",
    "def make_dict_list(df, text_col_name, label_col_name):\n",
    "    dict_list = []\n",
    "    for text, label in zip(df[text_col_name], df[label_col_name]):\n",
    "        tokens = text.split()\n",
    "        feature_vec = dict(Counter(tokens))\n",
    "        dict_list.append({\"text\": text, \"label\": label, \"feature\": feature_vec})\n",
    "    return dict_list\n",
    "\n",
    "\n",
    "train_list = make_dict_list(df_train, text_col_name=\"sentence\", label_col_name=\"label\")\n",
    "dev_list = make_dict_list(df_dev, text_col_name=\"sentence\", label_col_name=\"label\")\n",
    "\n",
    "print(train_list[0])"
   ]
  },
  {
   "cell_type": "markdown",
   "metadata": {
    "id": "_i40n9yZnCsv"
   },
   "source": [
    "## 62. 学習\n",
    "\n",
    "61で構築した学習データの特徴ベクトルを用いて、ロジスティック回帰モデルを学習せよ。"
   ]
  },
  {
   "cell_type": "code",
   "execution_count": 5,
   "metadata": {},
   "outputs": [],
   "source": [
    "from sklearn.feature_extraction import DictVectorizer\n",
    "from sklearn.linear_model import LogisticRegression\n",
    "import pickle\n",
    "\n",
    "train_features = [item[\"feature\"] for item in train_list]\n",
    "train_labels = [item[\"label\"] for item in train_list]\n",
    "\n",
    "dev_features = [item[\"feature\"] for item in dev_list]\n",
    "dev_labels = [item[\"label\"] for item in dev_list]\n",
    "\n",
    "# sklearnで学習できるように、sparse matrixに変換\n",
    "vec = DictVectorizer()\n",
    "X_train = vec.fit_transform(train_features)\n",
    "X_dev = vec.transform(dev_features)\n",
    "\n",
    "# ロジスティック回帰モデルの学習\n",
    "model = LogisticRegression(max_iter=1000)\n",
    "model.fit(X_train, train_labels)\n",
    "\n",
    "# 学習モデルの保存\n",
    "with open(\"./model/logistic_regression_model.pkl\", mode=\"wb\") as f:\n",
    "    pickle.dump(model, f, protocol=2)"
   ]
  },
  {
   "cell_type": "markdown",
   "metadata": {
    "id": "1wuvGIAonZEF"
   },
   "source": [
    "## 63. 予測\n",
    "\n",
    "学習したロジスティック回帰モデルを用い、検証データの先頭の事例のラベル（ポジネガ）を予測せよ。また、予測されたラベルが検証データで付与されていたラベルと一致しているか、確認せよ。"
   ]
  },
  {
   "cell_type": "code",
   "execution_count": 7,
   "metadata": {},
   "outputs": [
    {
     "name": "stdout",
     "output_type": "stream",
     "text": [
      "text：it 's a charming and often affecting journey . \n",
      "pred_label：1\n",
      "gold_label：1\n"
     ]
    }
   ],
   "source": [
    "# 保存したモデルを読み込む\n",
    "with open('./model/logistic_regression_model.pkl', 'rb') as f:\n",
    "    model = pickle.load(f)\n",
    "y_pred = model.predict(X_dev[0])[0]\n",
    "print(f\"text：{dev_list[0]['text']}\")\n",
    "print(f\"pred_label：{y_pred}\")\n",
    "print(f\"gold_label：{dev_labels[0]}\")"
   ]
  },
  {
   "cell_type": "markdown",
   "metadata": {
    "editable": true,
    "id": "ZHZht1jNoJPL",
    "slideshow": {
     "slide_type": ""
    },
    "tags": []
   },
   "source": [
    "## 64. 条件付き確率\n",
    "\n",
    "学習したロジスティック回帰モデルを用い、検証データの先頭の事例を各ラベル（ポジネガ）に分類するときの条件付き確率を求めよ。"
   ]
  },
  {
   "cell_type": "code",
   "execution_count": 8,
   "metadata": {},
   "outputs": [
    {
     "name": "stdout",
     "output_type": "stream",
     "text": [
      "text：it 's a charming and often affecting journey . \n",
      "pred_label：1\n",
      "gold_label：1\n",
      "proba：P(negative=0) = 0.0043, P(positive=1) = 0.9957\n"
     ]
    }
   ],
   "source": [
    "with open('./model/logistic_regression_model.pkl', 'rb') as f:\n",
    "    model = pickle.load(f)\n",
    "y_pred = model.predict(X_dev[0])[0]\n",
    "proba = model.predict_proba(X_dev[0])\n",
    "\n",
    "print(f\"text：{dev_list[0]['text']}\")\n",
    "print(f\"pred_label：{y_pred}\")\n",
    "print(f\"gold_label：{dev_labels[0]}\")\n",
    "print(f\"proba：P(negative=0) = {proba[0][0]:.4f}, P(positive=1) = {proba[0][1]:.4f}\")"
   ]
  },
  {
   "cell_type": "markdown",
   "metadata": {
    "editable": true,
    "id": "sa4FRl8kos_0",
    "slideshow": {
     "slide_type": ""
    },
    "tags": []
   },
   "source": [
    "## 65. テキストのポジネガの予測\n",
    "\n",
    "与えられたテキストのポジネガを予測するプログラムを実装せよ。例えば、テキストとして\"the worst movie I 've ever seen\"を与え、ロジスティック回帰モデルの予測結果を確認せよ。\n"
   ]
  },
  {
   "cell_type": "code",
   "execution_count": 9,
   "metadata": {},
   "outputs": [
    {
     "name": "stdout",
     "output_type": "stream",
     "text": [
      "negative\n"
     ]
    }
   ],
   "source": [
    "def predict_posi_nega(model,text):\n",
    "    model=model\n",
    "    tokens = text.split()\n",
    "    feature_vec = dict(Counter(tokens))\n",
    "    transform = vec.transform(feature_vec)\n",
    "    pred = model.predict(transform)[0]\n",
    "    return \"positive\" if pred == 1 else \"negative\"\n",
    "\n",
    "with open('./model/logistic_regression_model.pkl', 'rb') as f:\n",
    "    model = pickle.load(f)\n",
    "\n",
    "text = \"the worst movie I 've ever seen\"\n",
    "print(predict_posi_nega(model,text))"
   ]
  },
  {
   "cell_type": "markdown",
   "metadata": {
    "editable": true,
    "id": "JpIsH36Upci_",
    "slideshow": {
     "slide_type": ""
    },
    "tags": []
   },
   "source": [
    "## 66. 混同行列の作成\n",
    "\n",
    "学習したロジスティック回帰モデルの検証データにおける混同行列（confusion matrix）を求めよ。"
   ]
  },
  {
   "cell_type": "code",
   "execution_count": 10,
   "metadata": {},
   "outputs": [
    {
     "data": {
      "text/plain": [
       "Text(0, 0.5, 'True label')"
      ]
     },
     "execution_count": 10,
     "metadata": {},
     "output_type": "execute_result"
    },
    {
     "data": {
      "image/png": "[encoded data removed]",
      "text/plain": [
       "<Figure size 250x250 with 1 Axes>"
      ]
     },
     "metadata": {},
     "output_type": "display_data"
    }
   ],
   "source": [
    "from sklearn.metrics import confusion_matrix\n",
    "from matplotlib import pyplot as plt\n",
    "\n",
    "with open('./model/logistic_regression_model.pkl', 'rb') as f:\n",
    "    model = pickle.load(f)\n",
    "\n",
    "train_pred = model.predict(X_dev)\n",
    "confmat = confusion_matrix(y_true=dev_labels, y_pred=train_pred)\n",
    "\n",
    "fig, ax = plt.subplots(figsize=(2.5, 2.5))\n",
    "ax.matshow(confmat, cmap=plt.cm.Blues, alpha=0.3)\n",
    "for i in range(confmat.shape[0]):\n",
    "    for j in range(confmat.shape[1]):\n",
    "        ax.text(x=j, y=i, s=confmat[i, j], va=\"center\", ha=\"center\")\n",
    "\n",
    "ax.xaxis.set_ticks_position(\"bottom\")\n",
    "plt.xlabel(\"Predicted label\")\n",
    "plt.ylabel(\"True label\")"
   ]
  },
  {
   "cell_type": "markdown",
   "metadata": {
    "editable": true,
    "id": "wVGFDz94oaqV",
    "slideshow": {
     "slide_type": ""
    },
    "tags": []
   },
   "source": [
    "## 67. 精度の計測\n",
    "\n",
    "学習したロジスティック回帰モデルの正解率、適合率、再現率、F1スコアを、学習データおよび検証データ上で計測せよ。"
   ]
  },
  {
   "cell_type": "code",
   "execution_count": 11,
   "metadata": {},
   "outputs": [
    {
     "name": "stdout",
     "output_type": "stream",
     "text": [
      "学習データ\n",
      "正解率：0.9424, 適合率：0.9431, 再現率：0.9544, F1スコア：0.9487\n",
      "\n",
      "検証データ\n",
      "正解率：0.8096, 適合率：0.7983, 再現率：0.8378, F1スコア：0.8176\n"
     ]
    }
   ],
   "source": [
    "from sklearn.metrics import accuracy_score, precision_score, recall_score, f1_score\n",
    "\n",
    "def calculate_acc_precision_recall_f1(y_true, y_pred):\n",
    "    acc = accuracy_score(y_true, y_pred)\n",
    "    precision = precision_score(y_true, y_pred)\n",
    "    recall = recall_score(y_true, y_pred)\n",
    "    f1 = f1_score(y_true, y_pred)\n",
    "    return f\"正解率：{acc:.4f}, 適合率：{precision:.4f}, 再現率：{recall:.4f}, F1スコア：{f1:.4f}\"\n",
    "\n",
    "with open('./model/logistic_regression_model.pkl', 'rb') as f:\n",
    "    model = pickle.load(f)\n",
    "\n",
    "train_pred = model.predict(X_train)\n",
    "dev_pred = model.predict(X_dev)\n",
    "\n",
    "print(\"学習データ\")\n",
    "print(calculate_acc_precision_recall_f1(train_labels, train_pred))\n",
    "print(\"\\n検証データ\")\n",
    "print(calculate_acc_precision_recall_f1(dev_labels, dev_pred))"
   ]
  },
  {
   "cell_type": "markdown",
   "metadata": {
    "id": "N14sd55qq-xS"
   },
   "source": [
    "## 68. 特徴量の重みの確認\n",
    "\n",
    "学習したロジスティック回帰モデルの中で、重みの高い特徴量トップ20と、重みの低い特徴量トップ20を確認せよ。"
   ]
  },
  {
   "cell_type": "code",
   "execution_count": 31,
   "metadata": {},
   "outputs": [
    {
     "name": "stdout",
     "output_type": "stream",
     "text": [
      "--- 重みの高い特徴量トップ20 ---\n",
      "1   refreshing     3.4332\n",
      "2   remarkable     3.4280\n",
      "3   powerful       3.2230\n",
      "4   hilarious      3.1823\n",
      "5   beautiful      3.0012\n",
      "6   wonderful      2.9737\n",
      "7   prose          2.9279\n",
      "8   terrific       2.8732\n",
      "9   appealing      2.8571\n",
      "10  enjoyable      2.8165\n",
      "11  treat          2.8034\n",
      "12  charmer        2.7524\n",
      "13  vividly        2.7156\n",
      "14  likable        2.6930\n",
      "15  solid          2.6522\n",
      "16  charming       2.6208\n",
      "17  half-bad       2.6180\n",
      "18  fascinating    2.6138\n",
      "19  impressive     2.5980\n",
      "20  intriguing     2.5649\n",
      "\n",
      "--- 重みの低い特徴量トップ20 ---\n",
      "1   lacking        -4.3349\n",
      "2   lacks          -4.0796\n",
      "3   worst          -3.9862\n",
      "4   devoid         -3.6562\n",
      "5   mess           -3.6219\n",
      "6   failure        -3.5835\n",
      "7   stupid         -3.3480\n",
      "8   bore           -3.2578\n",
      "9   flat           -3.2248\n",
      "10  depressing     -3.2002\n",
      "11  loses          -3.1751\n",
      "12  waste          -3.1588\n",
      "13  lack           -3.0612\n",
      "14  squanders      -3.0372\n",
      "15  hardly         -3.0254\n",
      "16  none           -3.0210\n",
      "17  poor           -2.9850\n",
      "18  pointless      -2.9608\n",
      "19  unfortunately  -2.9424\n",
      "20  lousy          -2.9366\n"
     ]
    }
   ],
   "source": [
    "with open('./model/logistic_regression_model.pkl', 'rb') as f:\n",
    "    model = pickle.load(f)\n",
    "\n",
    "feature_names = vec.get_feature_names_out()\n",
    "weights = model.coef_[0]  # model.coef_は2次元配列で、coef_[0]がクラス1（positive）に関する重み\n",
    "\n",
    "feature_weight_pairs = list(zip(feature_names, weights))\n",
    "\n",
    "# 重みが大きい順（positiveに強く寄与）\n",
    "top_positive = sorted(feature_weight_pairs, key=lambda x: x[1], reverse=True)[:20]\n",
    "# 重みが小さい順（negativeに強く寄与）\n",
    "top_negative = sorted(feature_weight_pairs, key=lambda x: x[1])[:20]\n",
    "\n",
    "print(\"--- 重みの高い特徴量トップ20 ---\")\n",
    "for i,(word, weight) in enumerate(top_positive):\n",
    "    print(f\"{str(i+1).ljust(4)}{word:15s}{weight:.4f}\")\n",
    "\n",
    "print(\"\\n--- 重みの低い特徴量トップ20 ---\")\n",
    "for i, (word, weight) in enumerate(top_negative):\n",
    "    print(f\"{str(i+1).ljust(4)}{word:15s}{weight:.4f}\")"
   ]
  },
  {
   "cell_type": "markdown",
   "metadata": {
    "id": "QiEXYV__rJYR"
   },
   "source": [
    "## 69. 正則化パラメータの変更\n",
    "\n",
    "ロジスティック回帰モデルを学習するとき、正則化の係数（ハイパーパラメータ）を調整することで、学習時の適合度合いを制御できる。正則化の係数を変化させながらロジスティック回帰モデルを学習し、検証データ上の正解率を求めよ。実験の結果は、正則化パラメータを横軸、正解率を縦軸としたグラフにまとめよ。"
   ]
  },
  {
   "cell_type": "code",
   "execution_count": 20,
   "metadata": {},
   "outputs": [
    {
     "name": "stdout",
     "output_type": "stream",
     "text": [
      "C=0.0001, Accuracy=0.5206\n",
      "C=0.001 , Accuracy=0.6812\n",
      "C=0.01  , Accuracy=0.7546\n",
      "C=0.1   , Accuracy=0.8005\n",
      "C=1     , Accuracy=0.8096\n",
      "C=10    , Accuracy=0.8200\n",
      "C=100   , Accuracy=0.7947\n",
      "C=1000  , Accuracy=0.7856\n",
      "C=10000 , Accuracy=0.7844\n"
     ]
    },
    {
     "data": {
      "image/png": "[encoded data removed]",
      "text/plain": [
       "<Figure size 800x600 with 1 Axes>"
      ]
     },
     "metadata": {},
     "output_type": "display_data"
    }
   ],
   "source": [
    "C_values = [0.0001, 0.001, 0.01, 0.1, 1, 10, 100, 1000, 10000]\n",
    "accuracies = []\n",
    "\n",
    "for C in C_values:\n",
    "    model = LogisticRegression(C=C, max_iter=1000)\n",
    "    model.fit(X_train, train_labels)\n",
    "    y_pred = model.predict(X_dev)\n",
    "    acc = accuracy_score(dev_labels, y_pred)\n",
    "    accuracies.append(acc)\n",
    "    print(f\"C={str(C).ljust(6)}, Accuracy={acc:.4f}\")\n",
    "\n",
    "plt.figure(figsize=(8, 6))\n",
    "plt.plot(C_values, accuracies, marker=\"o\")\n",
    "plt.xscale(\"log\")\n",
    "plt.grid(True)\n",
    "plt.title(\"Relationship between Regularization Parameter and Accuracy Rate\")\n",
    "plt.xlabel(\"Regularization Parameter (C)\")\n",
    "plt.ylabel(\"Accuracy\")\n",
    "plt.tight_layout()\n",
    "plt.show()"
   ]
  }
 ],
 "metadata": {
  "colab": {
   "provenance": []
  },
  "kernelspec": {
   "display_name": "nlp-100-knocks",
   "language": "python",
   "name": "nlp-100-knocks"
  },
  "language_info": {
   "codemirror_mode": {
    "name": "ipython",
    "version": 3
   },
   "file_extension": ".py",
   "mimetype": "text/x-python",
   "name": "python",
   "nbconvert_exporter": "python",
   "pygments_lexer": "ipython3",
   "version": "3.10.12"
  }
 },
 "nbformat": 4,
 "nbformat_minor": 4
}
