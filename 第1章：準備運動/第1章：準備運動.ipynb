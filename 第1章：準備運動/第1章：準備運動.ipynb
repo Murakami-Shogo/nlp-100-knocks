{
 "cells": [
  {
   "cell_type": "markdown",
   "metadata": {
    "id": "9b0k_WCP2x85"
   },
   "source": [
    "# 00.文字列の逆順\n",
    "\n",
    "文字列”stressed”の文字を逆に（末尾から先頭に向かって）並べた文字列を得よ．"
   ]
  },
  {
   "cell_type": "code",
   "execution_count": 1,
   "metadata": {
    "colab": {
     "base_uri": "https://localhost:8080/"
    },
    "executionInfo": {
     "elapsed": 274,
     "status": "ok",
     "timestamp": 1729593544618,
     "user": {
      "displayName": "村上彰悟",
      "userId": "00958595423456349639"
     },
     "user_tz": -540
    },
    "id": "MWrSodhExEd5",
    "outputId": "43e416f4-9d36-46df-aec9-2f324d6c7e7d"
   },
   "outputs": [
    {
     "name": "stdout",
     "output_type": "stream",
     "text": [
      "desserts"
     ]
    }
   ],
   "source": [
    "str=\"stressed\"\n",
    "for i in range(len(str)-1, -1, -1):\n",
    "    print(str[i],end=\"\")"
   ]
  },
  {
   "cell_type": "code",
   "execution_count": 2,
   "metadata": {
    "colab": {
     "base_uri": "https://localhost:8080/",
     "height": 36
    },
    "executionInfo": {
     "elapsed": 399,
     "status": "ok",
     "timestamp": 1729593708131,
     "user": {
      "displayName": "村上彰悟",
      "userId": "00958595423456349639"
     },
     "user_tz": -540
    },
    "id": "kxF4zjNZzynl",
    "outputId": "1fa4ee04-51a0-4359-a79e-0b47fca760ef"
   },
   "outputs": [
    {
     "data": {
      "text/plain": [
       "'desserts'"
      ]
     },
     "execution_count": 2,
     "metadata": {},
     "output_type": "execute_result"
    }
   ],
   "source": [
    "str=\"stressed\"\n",
    "str[::-1]"
   ]
  },
  {
   "cell_type": "code",
   "execution_count": 3,
   "metadata": {
    "colab": {
     "base_uri": "https://localhost:8080/"
    },
    "executionInfo": {
     "elapsed": 295,
     "status": "ok",
     "timestamp": 1729594748206,
     "user": {
      "displayName": "村上彰悟",
      "userId": "00958595423456349639"
     },
     "user_tz": -540
    },
    "id": "c6Y4fV9N1QBH",
    "outputId": "be483587-a359-4fb1-bb3e-5400aca40c54"
   },
   "outputs": [
    {
     "name": "stdout",
     "output_type": "stream",
     "text": [
      "desserts\n"
     ]
    }
   ],
   "source": [
    "str = \"stressed\"\n",
    "temp = \"\"\n",
    "for i in reversed(str):\n",
    "    temp += i\n",
    "print(temp)"
   ]
  },
  {
   "cell_type": "markdown",
   "metadata": {
    "id": "e7TGyDuD2FzU"
   },
   "source": [
    "# 01.「パタトクカシーー」\n",
    "\n",
    "「パタトクカシーー」という文字列の1,3,5,7文字目を取り出して連結した文字列を得よ．"
   ]
  },
  {
   "cell_type": "code",
   "execution_count": 4,
   "metadata": {
    "colab": {
     "base_uri": "https://localhost:8080/"
    },
    "executionInfo": {
     "elapsed": 305,
     "status": "ok",
     "timestamp": 1729594445151,
     "user": {
      "displayName": "村上彰悟",
      "userId": "00958595423456349639"
     },
     "user_tz": -540
    },
    "id": "4KAtnsJE2MXF",
    "outputId": "94511530-5623-433d-bc3f-b59a9e97e76a"
   },
   "outputs": [
    {
     "name": "stdout",
     "output_type": "stream",
     "text": [
      "パトカー"
     ]
    }
   ],
   "source": [
    "str=\"パタトクカシーー\"\n",
    "for i in range(0,len(str),2):\n",
    "    print(str[i],end=\"\")"
   ]
  },
  {
   "cell_type": "code",
   "execution_count": 5,
   "metadata": {
    "colab": {
     "base_uri": "https://localhost:8080/",
     "height": 36
    },
    "executionInfo": {
     "elapsed": 311,
     "status": "ok",
     "timestamp": 1729594489875,
     "user": {
      "displayName": "村上彰悟",
      "userId": "00958595423456349639"
     },
     "user_tz": -540
    },
    "id": "qhKCcvs-3PSG",
    "outputId": "4c1b3a0d-cb8e-494f-eeac-aa991f1c09d4"
   },
   "outputs": [
    {
     "data": {
      "text/plain": [
       "'パトカー'"
      ]
     },
     "execution_count": 5,
     "metadata": {},
     "output_type": "execute_result"
    }
   ],
   "source": [
    "str=\"パタトクカシーー\"\n",
    "str[::2]"
   ]
  },
  {
   "cell_type": "code",
   "execution_count": 6,
   "metadata": {
    "colab": {
     "base_uri": "https://localhost:8080/"
    },
    "executionInfo": {
     "elapsed": 360,
     "status": "ok",
     "timestamp": 1729594867186,
     "user": {
      "displayName": "村上彰悟",
      "userId": "00958595423456349639"
     },
     "user_tz": -540
    },
    "id": "gO6vu4os4O1I",
    "outputId": "14d7d8d4-0040-4da2-adcf-045d59e9eb2c"
   },
   "outputs": [
    {
     "name": "stdout",
     "output_type": "stream",
     "text": [
      "パトカー\n"
     ]
    }
   ],
   "source": [
    "str = \"パタトクカシーー\"\n",
    "temp = \"\"\n",
    "for i, ch in enumerate(str):\n",
    "    if i % 2 == 1:\n",
    "        continue\n",
    "    else:\n",
    "        temp += ch\n",
    "print(temp)"
   ]
  },
  {
   "cell_type": "markdown",
   "metadata": {
    "id": "xyYq-nXg420T"
   },
   "source": [
    "# 02.「パトカー」＋「タクシー」＝「パタトクカシーー」\n",
    "\n",
    "「パトカー」＋「タクシー」の文字を先頭から交互に連結して文字列「パタトクカシーー」を得よ．"
   ]
  },
  {
   "cell_type": "code",
   "execution_count": 7,
   "metadata": {
    "colab": {
     "base_uri": "https://localhost:8080/"
    },
    "executionInfo": {
     "elapsed": 350,
     "status": "ok",
     "timestamp": 1729595056940,
     "user": {
      "displayName": "村上彰悟",
      "userId": "00958595423456349639"
     },
     "user_tz": -540
    },
    "id": "jQi19axY4-fy",
    "outputId": "d1f60de0-60dc-4427-8e3d-8d70f3392cfe"
   },
   "outputs": [
    {
     "name": "stdout",
     "output_type": "stream",
     "text": [
      "パタトクカシーー"
     ]
    }
   ],
   "source": [
    "str1=\"パトカー\"\n",
    "str2=\"タクシー\"\n",
    "for i in range(len(str1)):\n",
    "    print(str1[i]+str2[i],end=\"\")"
   ]
  },
  {
   "cell_type": "code",
   "execution_count": 8,
   "metadata": {
    "colab": {
     "base_uri": "https://localhost:8080/"
    },
    "executionInfo": {
     "elapsed": 317,
     "status": "ok",
     "timestamp": 1729595740295,
     "user": {
      "displayName": "村上彰悟",
      "userId": "00958595423456349639"
     },
     "user_tz": -540
    },
    "id": "RnR9fvDw7iJy",
    "outputId": "70911da1-5bb7-4c01-f54e-b78c769cd740"
   },
   "outputs": [
    {
     "name": "stdout",
     "output_type": "stream",
     "text": [
      "パタトクカシーー\n"
     ]
    }
   ],
   "source": [
    "str1 = \"パトカー\"\n",
    "str2 = \"タクシー\"\n",
    "temp = \"\"\n",
    "for t0, t1 in zip(str1, str2):\n",
    "    temp += t0\n",
    "    temp += t1\n",
    "print(temp)"
   ]
  },
  {
   "cell_type": "markdown",
   "metadata": {
    "id": "jq410xti8Mu2"
   },
   "source": [
    "# 03. 円周率\n",
    "\n",
    "“Now I need a drink, alcoholic of course, after the heavy lectures involving quantum mechanics.”という文を単語に分解し，各単語の（アルファベットの）文字数を先頭から出現順に並べたリストを作成せよ．"
   ]
  },
  {
   "cell_type": "code",
   "execution_count": 9,
   "metadata": {
    "colab": {
     "base_uri": "https://localhost:8080/"
    },
    "executionInfo": {
     "elapsed": 315,
     "status": "ok",
     "timestamp": 1729597463039,
     "user": {
      "displayName": "村上彰悟",
      "userId": "00958595423456349639"
     },
     "user_tz": -540
    },
    "id": "F7mZO_fj8Rai",
    "outputId": "ac1bf974-ed5d-40e4-f9f3-d15e75cb01ca"
   },
   "outputs": [
    {
     "name": "stdout",
     "output_type": "stream",
     "text": [
      "[3, 1, 4, 1, 5, 9, 2, 6, 5, 3, 5, 8, 9, 7, 9]\n"
     ]
    }
   ],
   "source": [
    "str=\"Now I need a drink, alcoholic of course, after the heavy lectures involving quantum mechanics.\"\n",
    "str=str.replace(\",\",\"\")\n",
    "str=str.replace(\".\",\"\")\n",
    "str=str.split()\n",
    "list1=[]\n",
    "for i in range(len(str)):\n",
    "    list1.append(len(str[i]))\n",
    "print(list1)"
   ]
  },
  {
   "cell_type": "code",
   "execution_count": 10,
   "metadata": {
    "colab": {
     "base_uri": "https://localhost:8080/"
    },
    "executionInfo": {
     "elapsed": 253,
     "status": "ok",
     "timestamp": 1729597036901,
     "user": {
      "displayName": "村上彰悟",
      "userId": "00958595423456349639"
     },
     "user_tz": -540
    },
    "id": "Tk-gFkDk97hK",
    "outputId": "7cbdc59a-942c-4f53-b3b1-18884bb78316"
   },
   "outputs": [
    {
     "name": "stdout",
     "output_type": "stream",
     "text": [
      "[3, 1, 4, 1, 5, 9, 2, 6, 5, 3, 5, 8, 9, 7, 9]\n"
     ]
    }
   ],
   "source": [
    "str = \"Now I need a drink, alcoholic of course, after the heavy lectures involving quantum mechanics.\"\n",
    "num_list = []\n",
    "temp = \"\"\n",
    "str = str.replace(\",\", \"\")\n",
    "for ch in str:\n",
    "    if ch == \" \" or ch == \".\":\n",
    "        num_list.append(len(temp))\n",
    "        temp = \"\"\n",
    "    else:\n",
    "        temp += ch\n",
    "print(num_list)"
   ]
  },
  {
   "cell_type": "markdown",
   "metadata": {
    "id": "ttg0sbeqDF99"
   },
   "source": [
    "# 04. 元素記号\n",
    "\n",
    "“Hi He Lied Because Boron Could Not Oxidize Fluorine. New Nations Might Also Sign Peace Security Clause. Arthur King Can.”という文を単語に分解し，1, 5, 6, 7, 8, 9, 15, 16, 19番目の単語は先頭の1文字，それ以外の単語は先頭の2文字を取り出し，取り出した文字列から単語の位置（先頭から何番目の単語か）への連想配列（辞書型もしくはマップ型）を作成せよ．"
   ]
  },
  {
   "cell_type": "code",
   "execution_count": 11,
   "metadata": {
    "colab": {
     "base_uri": "https://localhost:8080/"
    },
    "executionInfo": {
     "elapsed": 399,
     "status": "ok",
     "timestamp": 1729599326461,
     "user": {
      "displayName": "村上彰悟",
      "userId": "00958595423456349639"
     },
     "user_tz": -540
    },
    "id": "DySjRo4PDJYn",
    "outputId": "c6d6abb4-79ce-473f-aaf7-6edd9a4abfa2"
   },
   "outputs": [
    {
     "name": "stdout",
     "output_type": "stream",
     "text": [
      "{'H': 1, 'He': 2, 'Li': 3, 'Be': 4, 'B': 5, 'C': 6, 'N': 7, 'O': 8, 'F': 9, 'Ne': 10, 'Na': 11, 'Mi': 12, 'Al': 13, 'Si': 14, 'P': 15, 'S': 16, 'Cl': 17, 'Ar': 18, 'K': 19, 'Ca': 20}\n"
     ]
    }
   ],
   "source": [
    "str=\"Hi He Lied Because Boron Could Not Oxidize Fluorine. New Nations Might Also Sign Peace Security Clause. Arthur King Can.\"\n",
    "str=str.replace(\".\",\"\")\n",
    "str=str.split()\n",
    "d=dict()\n",
    "for i in range(len(str)):\n",
    "  if i+1 in (1,5,6,7,8,9,15,16,19):\n",
    "    d[str[i][0:1]]=i+1\n",
    "  else:\n",
    "    d[str[i][0:2]]=i+1\n",
    "print(d)"
   ]
  },
  {
   "cell_type": "code",
   "execution_count": 12,
   "metadata": {
    "colab": {
     "base_uri": "https://localhost:8080/"
    },
    "executionInfo": {
     "elapsed": 433,
     "status": "ok",
     "timestamp": 1729600126664,
     "user": {
      "displayName": "村上彰悟",
      "userId": "00958595423456349639"
     },
     "user_tz": -540
    },
    "id": "U_1SDAFYKKvB",
    "outputId": "987f89f7-ac76-4bca-af4d-d9dc031e791d"
   },
   "outputs": [
    {
     "name": "stdout",
     "output_type": "stream",
     "text": [
      "{'H': 1, 'He': 2, 'Li': 3, 'Be': 4, 'B': 5, 'C': 6, 'N': 7, 'O': 8, 'F': 9, 'Ne': 10, 'Na': 11, 'Mi': 12, 'Al': 13, 'Si': 14, 'P': 15, 'S': 16, 'Cl': 17, 'Ar': 18, 'K': 19, 'Ca': 20}\n"
     ]
    }
   ],
   "source": [
    "d = {}\n",
    "str = \"Hi He Lied Because Boron Could Not Oxidize Fluorine. New Nations Might Also Sign Peace Security Clause. Arthur King Can.\"\n",
    "str = str.replace(\".\", \"\")\n",
    "list1 = str.split(\" \")\n",
    "num_list = {1, 5, 6, 7, 8, 9, 15, 16, 19}\n",
    "for i, atom in enumerate(list1, 1):\n",
    "    if i not in num_list:\n",
    "        temp = atom[:2]\n",
    "        d[temp] = i\n",
    "    else:\n",
    "        temp = atom[0]\n",
    "        d[temp] = i\n",
    "print(d)"
   ]
  },
  {
   "cell_type": "markdown",
   "metadata": {
    "id": "bEkZUv2ENVRw"
   },
   "source": [
    "# 05. n-gram\n",
    "\n",
    "与えられたシーケンス（文字列やリストなど）からn-gramを作る関数を作成せよ．この関数を用い，”I am an NLPer”という文から単語bi-gram，文字bi-gramを得よ．"
   ]
  },
  {
   "cell_type": "code",
   "execution_count": 13,
   "metadata": {},
   "outputs": [
    {
     "name": "stdout",
     "output_type": "stream",
     "text": [
      "文字bi-gram ['Ia', 'am', 'ma', 'an', 'nN', 'NL', 'LP', 'Pe', 'er', 'r']\n",
      "単語bi-gram [['I', 'am'], ['am', 'an'], ['an', 'NLPer'], ['NLPer']]\n"
     ]
    }
   ],
   "source": [
    "def N_gram(n,text):\n",
    "    char=text.replace(\" \",\"\")\n",
    "    word = text.split(\" \")\n",
    "    char_list = []\n",
    "    word_list = []\n",
    "    for i in range(len(char)):\n",
    "        char_list.append(char[i:i+n])\n",
    "    for i in range(len(word)):\n",
    "        word_list.append(word[i:i+n])\n",
    "    return char_list, word_list\n",
    "\n",
    "c, w = N_gram(2, \"I am an NLPer\")\n",
    "print(\"文字bi-gram\",c)\n",
    "print(\"単語bi-gram\",w)"
   ]
  },
  {
   "cell_type": "markdown",
   "metadata": {
    "id": "Y2yGp9uVuFZT"
   },
   "source": [
    "# 06. 集合\n",
    "\n",
    "“paraparaparadise”と”paragraph”に含まれる文字bi-gramの集合を，それぞれ, XとYとして求め，XとYの和集合，積集合，差集合を求めよ．さらに，’se’というbi-gramがXおよびYに含まれるかどうかを調べよ．"
   ]
  },
  {
   "cell_type": "code",
   "execution_count": 14,
   "metadata": {
    "colab": {
     "base_uri": "https://localhost:8080/"
    },
    "executionInfo": {
     "elapsed": 470,
     "status": "ok",
     "timestamp": 1729678760787,
     "user": {
      "displayName": "村上彰悟",
      "userId": "00958595423456349639"
     },
     "user_tz": -540
    },
    "id": "p6NcHM1kuJYG",
    "outputId": "ff593c4b-6c32-4b82-a0a7-c9763dd3e2bc"
   },
   "outputs": [
    {
     "name": "stdout",
     "output_type": "stream",
     "text": [
      "和集合 {'pa', 'ag', 'ar', 'e', 'ad', 'gr', 'ph', 'ra', 'is', 'se', 'h', 'ap', 'di'}\n",
      "積集合 {'pa', 'ar', 'ap', 'ra'}\n",
      "差集合 {'e', 'ad', 'is', 'se', 'di'}\n",
      "seはXに含まれる\n"
     ]
    }
   ],
   "source": [
    "str1 = \"paraparaparadise\"\n",
    "str2 = \"paragraph\"\n",
    "char_list1, _ = N_gram(2, str1)\n",
    "char_list2, _ = N_gram(2, str2)\n",
    "X = set(char_list1)\n",
    "Y = set(char_list2)\n",
    "print(\"和集合\", X | Y)\n",
    "print(\"積集合\", X & Y)\n",
    "print(\"差集合\", X - Y)\n",
    "\n",
    "if \"se\" in X and \"se\" in Y:\n",
    "    print(\"seはXとYに含まれる\")\n",
    "elif \"se\" in X:\n",
    "    print(\"seはXに含まれる\")\n",
    "elif \"se\" in Y:\n",
    "    print(\"seはYに含まれる\")\n",
    "else:\n",
    "    print(\"seはXにもYにも含まれない\")"
   ]
  },
  {
   "cell_type": "markdown",
   "metadata": {
    "id": "7RLMakBE9YUo"
   },
   "source": [
    "# 07. テンプレートによる文生成\n",
    "\n",
    "引数x, y, zを受け取り「x時のyはz」という文字列を返す関数を実装せよ．さらに，x=12, y=”気温”, z=22.4として，実行結果を確認せよ．"
   ]
  },
  {
   "cell_type": "code",
   "execution_count": 15,
   "metadata": {
    "colab": {
     "base_uri": "https://localhost:8080/"
    },
    "executionInfo": {
     "elapsed": 515,
     "status": "ok",
     "timestamp": 1729680493024,
     "user": {
      "displayName": "村上彰悟",
      "userId": "00958595423456349639"
     },
     "user_tz": -540
    },
    "id": "iRXqCGNM9fZy",
    "outputId": "024004e4-ca88-44f7-905c-25c57eacf340"
   },
   "outputs": [
    {
     "name": "stdout",
     "output_type": "stream",
     "text": [
      "12時の気温は22.4\n"
     ]
    }
   ],
   "source": [
    "def template(x, y, z):\n",
    "    return f'{x}時の{y}は{z}'\n",
    "\n",
    "print(template(12, \"気温\", 22.4))"
   ]
  },
  {
   "cell_type": "markdown",
   "metadata": {
    "id": "Hh6F1x7WA7vO"
   },
   "source": [
    "# 08. 暗号文\n",
    "\n",
    "与えられた文字列の各文字を，以下の仕様で変換する関数cipherを実装せよ．  \n",
    "　・英小文字ならば(219 - 文字コード)の文字に置換  \n",
    "　・その他の文字はそのまま出力  \n",
    "この関数を用い，英語のメッセージを暗号化・復号化せよ．"
   ]
  },
  {
   "cell_type": "code",
   "execution_count": 16,
   "metadata": {
    "colab": {
     "base_uri": "https://localhost:8080/"
    },
    "executionInfo": {
     "elapsed": 640,
     "status": "ok",
     "timestamp": 1729683356996,
     "user": {
      "displayName": "村上彰悟",
      "userId": "00958595423456349639"
     },
     "user_tz": -540
    },
    "id": "x9KPvk-VA6ja",
    "outputId": "cf9f0215-f217-4da6-c8cf-967f4c13955e"
   },
   "outputs": [
    {
     "name": "stdout",
     "output_type": "stream",
     "text": [
      "暗号文:  I zn zm NLPvi\n",
      "復号文:  I am an NLPer\n"
     ]
    }
   ],
   "source": [
    "def cipher(text):\n",
    "    result = \"\"\n",
    "    for ch in text:\n",
    "        if ch.islower():\n",
    "            result += chr(219 - ord(ch))\n",
    "        else:\n",
    "            result += ch\n",
    "    return result\n",
    "\n",
    "str = \"I am an NLPer\"\n",
    "cipher_text=cipher(str)\n",
    "decipher_text=cipher(cipher_text)\n",
    "\n",
    "print(\"暗号文: \",cipher_text)\n",
    "print(\"復号文: \",decipher_text)"
   ]
  },
  {
   "cell_type": "code",
   "execution_count": 17,
   "metadata": {
    "colab": {
     "base_uri": "https://localhost:8080/"
    },
    "executionInfo": {
     "elapsed": 711,
     "status": "ok",
     "timestamp": 1729683565566,
     "user": {
      "displayName": "村上彰悟",
      "userId": "00958595423456349639"
     },
     "user_tz": -540
    },
    "id": "8On8MXrPLIeb",
    "outputId": "837e86e9-0015-47cf-d38a-68d15b2a0f0c"
   },
   "outputs": [
    {
     "name": "stdout",
     "output_type": "stream",
     "text": [
      "暗号化: gsv jfrxp yildm ulc qfnkh levi gsv ozab wlt\n",
      "復号化: the quick brown fox jumps over the lazy dog\n"
     ]
    }
   ],
   "source": [
    "import re\n",
    "def cipher(text):\n",
    "    repatter = re.compile('[a-z]')\n",
    "    temp = \"\"\n",
    "    for ch in text:\n",
    "        if re.match(repatter, ch):\n",
    "            ch = chr(219 - ord(ch))\n",
    "        temp += ch\n",
    "    return temp\n",
    "\n",
    "encode = cipher(\"the quick brown fox jumps over the lazy dog\")\n",
    "print(\"暗号化:\",encode)\n",
    "decode = cipher(encode)\n",
    "print(\"復号化:\",decode)\n"
   ]
  },
  {
   "cell_type": "markdown",
   "metadata": {
    "id": "BuggawsfPEIc"
   },
   "source": [
    "# 09.Typoglycemia\n",
    "\n",
    "スペースで区切られた単語列に対して，各単語の先頭と末尾の文字は残し，それ以外の文字の順序をランダムに並び替えるプログラムを作成せよ．ただし，長さが４以下の単語は並び替えないこととする．適当な英語の文（例えば”I couldn’t believe that I could actually understand what I was reading : the phenomenal power of the human mind .”）を与え，その実行結果を確認せよ．"
   ]
  },
  {
   "cell_type": "code",
   "execution_count": 18,
   "metadata": {
    "colab": {
     "base_uri": "https://localhost:8080/",
     "height": 54
    },
    "executionInfo": {
     "elapsed": 438,
     "status": "ok",
     "timestamp": 1729686495543,
     "user": {
      "displayName": "村上彰悟",
      "userId": "00958595423456349639"
     },
     "user_tz": -540
    },
    "id": "U4tXrN4pPJIm",
    "outputId": "512af6cf-9c1c-4153-efb4-b6e3f419556f"
   },
   "outputs": [
    {
     "name": "stdout",
     "output_type": "stream",
     "text": [
      "I cudno'lt bevelie that I cluod aaulclty unstdeanrd what I was raideng : the pnaeemohnl pweor of the haumn mind .\n"
     ]
    }
   ],
   "source": [
    "import random\n",
    "\n",
    "def typoglycemia(text):\n",
    "    text_list = text.split(\" \")\n",
    "    result = []\n",
    "    for word in text_list:\n",
    "        if len(word) <= 4:\n",
    "            result.append(word)\n",
    "        else:\n",
    "            middle = list(word[1:-1])\n",
    "            random.shuffle(middle)  #random.shuffle()は、リストの要素をその場でシャッフルする関数であり、返り値はNone。\"\".join(random.shuffle(...))を使うとエラーになる。\n",
    "            shuffled_word = word[0] + \"\".join(middle) + word[-1]  \n",
    "            result.append(shuffled_word)\n",
    "    return \" \".join(result)\n",
    "\n",
    "output = typoglycemia(\"I couldn't believe that I could actually understand what I was reading : the phenomenal power of the human mind .\")\n",
    "print(output)"
   ]
  },
  {
   "cell_type": "code",
   "execution_count": 19,
   "metadata": {},
   "outputs": [
    {
     "name": "stdout",
     "output_type": "stream",
     "text": [
      "I culnod't bliveee that I culod alcltuay utdnrnesad what I was rnadieg : the pamenehnol pweor of the haumn mind .\n"
     ]
    }
   ],
   "source": [
    "import random\n",
    "\n",
    "def typoglycemia(text):\n",
    "    text_list = text.split(\" \")\n",
    "    result = []\n",
    "    for word in text_list:\n",
    "        if len(word) <= 4:\n",
    "            result.append(word)\n",
    "        else:\n",
    "            shuffled_word = word[0]+\"\".join(random.sample(word[1:-1], len(word[1:-1])))+word[-1]\n",
    "            result.append(shuffled_word)\n",
    "    return \" \".join(result)\n",
    "\n",
    "output = typoglycemia(\"I couldn't believe that I could actually understand what I was reading : the phenomenal power of the human mind .\")\n",
    "print(output)"
   ]
  }
 ],
 "metadata": {
  "colab": {
   "authorship_tag": "ABX9TyP9195qgbJ8//9uUmpfkOYU",
   "provenance": []
  },
  "kernelspec": {
   "display_name": ".venv",
   "language": "python",
   "name": "python3"
  },
  "language_info": {
   "codemirror_mode": {
    "name": "ipython",
    "version": 3
   },
   "file_extension": ".py",
   "mimetype": "text/x-python",
   "name": "python",
   "nbconvert_exporter": "python",
   "pygments_lexer": "ipython3",
   "version": "3.10.12"
  }
 },
 "nbformat": 4,
 "nbformat_minor": 0
}
