{
 "cells": [
  {
   "cell_type": "markdown",
   "metadata": {},
   "source": [
    "[popular-names.txt](https://nlp100.github.io/data/popular-names.txt)は，アメリカで生まれた赤ちゃんの「名前」「性別」「人数」「年」をタブ区切り形式で格納したファイルである．以下の処理を行うプログラムを作成し，[popular-names.txt](https://nlp100.github.io/data/popular-names.txt)を入力ファイルとして実行せよ．さらに，同様の処理をUNIXコマンドでも実行し，プログラムの実行結果を確認せよ．"
   ]
  },
  {
   "cell_type": "markdown",
   "metadata": {
    "id": "1NwTT-IBcZeI"
   },
   "source": [
    "# 10. 行数のカウント\n",
    "\n",
    "行数をカウントせよ．確認にはwcコマンドを用いよ．"
   ]
  },
  {
   "cell_type": "code",
   "execution_count": 2,
   "metadata": {
    "colab": {
     "base_uri": "https://localhost:8080/"
    },
    "executionInfo": {
     "elapsed": 836,
     "status": "ok",
     "timestamp": 1729749754141,
     "user": {
      "displayName": "村上彰悟",
      "userId": "00958595423456349639"
     },
     "user_tz": -540
    },
    "id": "7Q2NN2BCcBVT",
    "outputId": "e8e17177-9997-42bd-f44e-2dbbab278664"
   },
   "outputs": [
    {
     "name": "stdout",
     "output_type": "stream",
     "text": [
      "2780\n"
     ]
    }
   ],
   "source": [
    "with open(\"popular-names.txt\", \"r\") as f:\n",
    "    lines = f.readlines()\n",
    "    count = len(lines)\n",
    "    print(count)"
   ]
  },
  {
   "cell_type": "code",
   "execution_count": 3,
   "metadata": {
    "colab": {
     "base_uri": "https://localhost:8080/"
    },
    "executionInfo": {
     "elapsed": 449,
     "status": "ok",
     "timestamp": 1729750715653,
     "user": {
      "displayName": "村上彰悟",
      "userId": "00958595423456349639"
     },
     "user_tz": -540
    },
    "id": "2Yx9e59-I6dp",
    "outputId": "d4d309b0-56fc-4dac-afe7-c2aebe8ece12"
   },
   "outputs": [
    {
     "name": "stdout",
     "output_type": "stream",
     "text": [
      "2780 popular-names.txt\n"
     ]
    }
   ],
   "source": [
    "!wc -l \"popular-names.txt\""
   ]
  },
  {
   "cell_type": "markdown",
   "metadata": {
    "id": "sC6twgxFMAtj"
   },
   "source": [
    "# 11. タブをスペースに置換\n",
    "\n",
    "タブ1文字につきスペース1文字に置換せよ．確認にはsedコマンド，trコマンド，もしくはexpandコマンドを用いよ．"
   ]
  },
  {
   "cell_type": "code",
   "execution_count": 4,
   "metadata": {
    "colab": {
     "base_uri": "https://localhost:8080/"
    },
    "executionInfo": {
     "elapsed": 1483,
     "status": "ok",
     "timestamp": 1729751337947,
     "user": {
      "displayName": "村上彰悟",
      "userId": "00958595423456349639"
     },
     "user_tz": -540
    },
    "id": "ad3aZ1m6MYwk",
    "outputId": "b494d947-1bc2-4283-b523-984cfd5b9ee5"
   },
   "outputs": [
    {
     "name": "stdout",
     "output_type": "stream",
     "text": [
      "Mary F 7065 1880\n",
      "Anna F 2604 1880\n",
      "Emma F 2003 1880\n",
      "Elizabeth F 1939 1880\n",
      "Minnie F 1746 1880\n",
      "Margaret F 1578 1880\n",
      "Ida F 1472 1880\n",
      "Alice F 1414 1880\n",
      "Bertha F 1320 1880\n",
      "Sarah F 1288 1880\n"
     ]
    }
   ],
   "source": [
    "with open(\"popular-names.txt\", \"r\") as f:\n",
    "    lines = f.readlines()\n",
    "\n",
    "for line in lines[:10]:\n",
    "    print(line.replace(\"\\t\", \" \"), end=\"\")\n"
   ]
  },
  {
   "cell_type": "code",
   "execution_count": 5,
   "metadata": {
    "colab": {
     "base_uri": "https://localhost:8080/"
    },
    "executionInfo": {
     "elapsed": 499,
     "status": "ok",
     "timestamp": 1729752292542,
     "user": {
      "displayName": "村上彰悟",
      "userId": "00958595423456349639"
     },
     "user_tz": -540
    },
    "id": "Mx7EIhbeQ7zb",
    "outputId": "c18933b0-8b8f-465a-f7f6-4564363d63b2"
   },
   "outputs": [
    {
     "name": "stdout",
     "output_type": "stream",
     "text": [
      "Mary F 7065 1880\n",
      "Anna F 2604 1880\n",
      "Emma F 2003 1880\n",
      "Elizabeth F 1939 1880\n",
      "Minnie F 1746 1880\n",
      "Margaret F 1578 1880\n",
      "Ida F 1472 1880\n",
      "Alice F 1414 1880\n",
      "Bertha F 1320 1880\n",
      "Sarah F 1288 1880\n",
      "sed: couldn't write 22 items to stdout: Broken pipe\n"
     ]
    }
   ],
   "source": [
    "!cat \"popular-names.txt\" | sed 's/\\t/ /g' | head -n 10"
   ]
  },
  {
   "cell_type": "code",
   "execution_count": 6,
   "metadata": {
    "colab": {
     "base_uri": "https://localhost:8080/"
    },
    "executionInfo": {
     "elapsed": 468,
     "status": "ok",
     "timestamp": 1729752428255,
     "user": {
      "displayName": "村上彰悟",
      "userId": "00958595423456349639"
     },
     "user_tz": -540
    },
    "id": "_IQHBbbjQWfd",
    "outputId": "5727ff63-cd8d-4f5e-85ea-0a570e81d965"
   },
   "outputs": [
    {
     "name": "stdout",
     "output_type": "stream",
     "text": [
      "Mary F 7065 1880\n",
      "Anna F 2604 1880\n",
      "Emma F 2003 1880\n",
      "Elizabeth F 1939 1880\n",
      "Minnie F 1746 1880\n",
      "Margaret F 1578 1880\n",
      "Ida F 1472 1880\n",
      "Alice F 1414 1880\n",
      "Bertha F 1320 1880\n",
      "Sarah F 1288 1880\n",
      "tr: write error: Broken pipe\n",
      "tr: write error\n"
     ]
    }
   ],
   "source": [
    "!cat \"popular-names.txt\" | tr \"\\t\" \" \" | head -n 10 "
   ]
  },
  {
   "cell_type": "code",
   "execution_count": 7,
   "metadata": {
    "colab": {
     "base_uri": "https://localhost:8080/"
    },
    "executionInfo": {
     "elapsed": 514,
     "status": "ok",
     "timestamp": 1729752693363,
     "user": {
      "displayName": "村上彰悟",
      "userId": "00958595423456349639"
     },
     "user_tz": -540
    },
    "id": "giDfhKrER4m5",
    "outputId": "a0340826-9923-4616-9b7e-59f23ca7ce7c"
   },
   "outputs": [
    {
     "name": "stdout",
     "output_type": "stream",
     "text": [
      "Mary F 7065 1880\n",
      "Anna F 2604 1880\n",
      "Emma F 2003 1880\n",
      "Elizabeth F 1939 1880\n",
      "Minnie F 1746 1880\n",
      "Margaret F 1578 1880\n",
      "Ida F 1472 1880\n",
      "Alice F 1414 1880\n",
      "Bertha F 1320 1880\n",
      "Sarah F 1288 1880\n",
      "expand: write error: Broken pipe\n",
      "expand: write error\n"
     ]
    }
   ],
   "source": [
    "!cat \"popular-names.txt\" | expand -t 1  | head -n 10 "
   ]
  },
  {
   "cell_type": "markdown",
   "metadata": {
    "id": "E-7FqCyBVT2x"
   },
   "source": [
    "# 12. 1列目をcol1.txtに，2列目をcol2.txtに保存\n",
    "\n",
    "各行の1列目だけを抜き出したものをcol1.txtに，2列目だけを抜き出したものをcol2.txtとしてファイルに保存せよ．確認にはcutコマンドを用いよ．"
   ]
  },
  {
   "cell_type": "code",
   "execution_count": 8,
   "metadata": {
    "executionInfo": {
     "elapsed": 397,
     "status": "ok",
     "timestamp": 1729755613491,
     "user": {
      "displayName": "村上彰悟",
      "userId": "00958595423456349639"
     },
     "user_tz": -540
    },
    "id": "gihPU6ZXVgqZ"
   },
   "outputs": [],
   "source": [
    "with open(\"popular-names.txt\", \"r\") as f, open(\"col1.txt\", \"w\") as fc1, open(\"col2.txt\", \"w\") as fc2:\n",
    "    lines = f.readlines()\n",
    "    count = len(lines)\n",
    "    for i, line in enumerate(lines):\n",
    "      name, sex, number, year = line.split('\\t')\n",
    "      if count == i+1:\n",
    "        fc1.write(name)\n",
    "        fc2.write(sex)\n",
    "      else:\n",
    "        fc1.write(name + '\\n')\n",
    "        fc2.write(sex + '\\n')"
   ]
  },
  {
   "cell_type": "code",
   "execution_count": 9,
   "metadata": {},
   "outputs": [
    {
     "name": "stdout",
     "output_type": "stream",
     "text": [
      "Mary\n",
      "Anna\n",
      "Emma\n",
      "Elizabeth\n",
      "Minnie\n",
      "Margaret\n",
      "Ida\n",
      "Alice\n",
      "Bertha\n",
      "Sarah\n"
     ]
    }
   ],
   "source": [
    "!head -n 10 \"col1.txt\""
   ]
  },
  {
   "cell_type": "code",
   "execution_count": 10,
   "metadata": {},
   "outputs": [
    {
     "name": "stdout",
     "output_type": "stream",
     "text": [
      "F\n",
      "F\n",
      "F\n",
      "F\n",
      "F\n",
      "F\n",
      "F\n",
      "F\n",
      "F\n",
      "F\n"
     ]
    }
   ],
   "source": [
    "!head -n 10 \"col2.txt\""
   ]
  },
  {
   "cell_type": "code",
   "execution_count": 11,
   "metadata": {
    "colab": {
     "base_uri": "https://localhost:8080/"
    },
    "executionInfo": {
     "elapsed": 387,
     "status": "ok",
     "timestamp": 1729765764062,
     "user": {
      "displayName": "村上彰悟",
      "userId": "00958595423456349639"
     },
     "user_tz": -540
    },
    "id": "GTK-AJ-S5-KI",
    "outputId": "8ea528ee-7ee8-416e-d587-7350a2ceac4e"
   },
   "outputs": [
    {
     "name": "stdout",
     "output_type": "stream",
     "text": [
      "Mary\n",
      "Anna\n",
      "Emma\n",
      "Elizabeth\n",
      "Minnie\n",
      "Margaret\n",
      "Ida\n",
      "Alice\n",
      "Bertha\n",
      "Sarah\n",
      "cut: write error: Broken pipe\n"
     ]
    }
   ],
   "source": [
    "# 1列目\n",
    "!cut -f 1 popular-names.txt | head -n 10"
   ]
  },
  {
   "cell_type": "code",
   "execution_count": 12,
   "metadata": {
    "colab": {
     "base_uri": "https://localhost:8080/"
    },
    "executionInfo": {
     "elapsed": 312,
     "status": "ok",
     "timestamp": 1729765975158,
     "user": {
      "displayName": "村上彰悟",
      "userId": "00958595423456349639"
     },
     "user_tz": -540
    },
    "id": "jWOVGk78FLEb",
    "outputId": "e4df73b2-54a6-4973-c6a3-3eb7ff714c58"
   },
   "outputs": [
    {
     "name": "stdout",
     "output_type": "stream",
     "text": [
      "F\n",
      "F\n",
      "F\n",
      "F\n",
      "F\n",
      "F\n",
      "F\n",
      "F\n",
      "F\n",
      "F\n"
     ]
    }
   ],
   "source": [
    "# 2列目\n",
    "!cut -f 2 popular-names.txt | head -n 10 "
   ]
  },
  {
   "cell_type": "markdown",
   "metadata": {
    "id": "sF-0NSZ2GJlO"
   },
   "source": [
    "# 13. col1.txtとcol2.txtをマージ\n",
    "\n",
    "12で作ったcol1.txtとcol2.txtを結合し，元のファイルの1列目と2列目をタブ区切りで並べたテキストファイルを作成せよ．確認にはpasteコマンドを用いよ．"
   ]
  },
  {
   "cell_type": "code",
   "execution_count": 13,
   "metadata": {
    "executionInfo": {
     "elapsed": 1080,
     "status": "ok",
     "timestamp": 1729768540474,
     "user": {
      "displayName": "村上彰悟",
      "userId": "00958595423456349639"
     },
     "user_tz": -540
    },
    "id": "QjKgzpFMGOcU"
   },
   "outputs": [],
   "source": [
    "with open(\"col1.txt\",\"r\") as fc1, open(\"col2.txt\",\"r\") as fc2, open(\"col1_col2.txt\",\"w\") as f:\n",
    "    lines1 = fc1.readlines()\n",
    "    lines2 = fc2.readlines()\n",
    "    count = len(lines1)\n",
    "    for i, (name, sex) in enumerate(zip(lines1, lines2)):\n",
    "      if count == i+1:\n",
    "        f.write(name.rstrip() + '\\t' + sex.rstrip())\n",
    "      else:\n",
    "        f.write(name.rstrip() + '\\t' + sex.rstrip() + '\\n')"
   ]
  },
  {
   "cell_type": "code",
   "execution_count": 14,
   "metadata": {},
   "outputs": [
    {
     "name": "stdout",
     "output_type": "stream",
     "text": [
      "Mary\tF\n",
      "Anna\tF\n",
      "Emma\tF\n",
      "Elizabeth\tF\n",
      "Minnie\tF\n",
      "Margaret\tF\n",
      "Ida\tF\n",
      "Alice\tF\n",
      "Bertha\tF\n",
      "Sarah\tF\n"
     ]
    }
   ],
   "source": [
    "!head -n 10 \"col1_col2.txt\""
   ]
  },
  {
   "cell_type": "code",
   "execution_count": 15,
   "metadata": {
    "colab": {
     "base_uri": "https://localhost:8080/"
    },
    "executionInfo": {
     "elapsed": 345,
     "status": "ok",
     "timestamp": 1729768615024,
     "user": {
      "displayName": "村上彰悟",
      "userId": "00958595423456349639"
     },
     "user_tz": -540
    },
    "id": "sK78IUN0NQth",
    "outputId": "f1972024-c50b-454c-febd-456385783cc7"
   },
   "outputs": [
    {
     "name": "stdout",
     "output_type": "stream",
     "text": [
      "Mary\tF\n",
      "Anna\tF\n",
      "Emma\tF\n",
      "Elizabeth\tF\n",
      "Minnie\tF\n",
      "Margaret\tF\n",
      "Ida\tF\n",
      "Alice\tF\n",
      "Bertha\tF\n",
      "Sarah\tF\n",
      "paste: write error: Broken pipe\n"
     ]
    }
   ],
   "source": [
    "!paste \"col1.txt\" \"col2.txt\" | head -n 10 "
   ]
  },
  {
   "cell_type": "markdown",
   "metadata": {
    "id": "IFjpbyraRue0"
   },
   "source": [
    "# 14. 先頭からN行を出力\n",
    "\n",
    "自然数Nをコマンドライン引数などの手段で受け取り，入力のうち先頭のN行だけを表示せよ．確認にはheadコマンドを用いよ．"
   ]
  },
  {
   "cell_type": "code",
   "execution_count": 17,
   "metadata": {
    "colab": {
     "base_uri": "https://localhost:8080/"
    },
    "executionInfo": {
     "elapsed": 10831,
     "status": "ok",
     "timestamp": 1729770173898,
     "user": {
      "displayName": "村上彰悟",
      "userId": "00958595423456349639"
     },
     "user_tz": -540
    },
    "id": "E0d0L9bWR75P",
    "outputId": "3361502e-ddbd-4dcc-a53b-acfae4eee93e"
   },
   "outputs": [
    {
     "name": "stdout",
     "output_type": "stream",
     "text": [
      "Mary\tF\t7065\t1880\n",
      "Anna\tF\t2604\t1880\n",
      "Emma\tF\t2003\t1880\n",
      "Elizabeth\tF\t1939\t1880\n",
      "Minnie\tF\t1746\t1880\n"
     ]
    }
   ],
   "source": [
    "with open(\"popular-names.txt\", \"r\") as f:\n",
    "    N = int(input())\n",
    "    lines = f.readlines()\n",
    "    for i in range(N):\n",
    "        lines[i] = lines[i].replace('\\n', '')\n",
    "        print(lines[i])"
   ]
  },
  {
   "cell_type": "code",
   "execution_count": 18,
   "metadata": {
    "colab": {
     "base_uri": "https://localhost:8080/"
    },
    "executionInfo": {
     "elapsed": 319,
     "status": "ok",
     "timestamp": 1729770928814,
     "user": {
      "displayName": "村上彰悟",
      "userId": "00958595423456349639"
     },
     "user_tz": -540
    },
    "id": "C_xXRx-oYNKq",
    "outputId": "fc627ca6-8af5-4cae-ef53-2e109b2d3433"
   },
   "outputs": [
    {
     "name": "stdout",
     "output_type": "stream",
     "text": [
      "Mary\tF\t7065\t1880\n",
      "Anna\tF\t2604\t1880\n",
      "Emma\tF\t2003\t1880\n",
      "Elizabeth\tF\t1939\t1880\n",
      "Minnie\tF\t1746\t1880\n"
     ]
    }
   ],
   "source": [
    "!head -n 5 \"popular-names.txt\""
   ]
  },
  {
   "cell_type": "markdown",
   "metadata": {
    "id": "Zg8WogISYdWT"
   },
   "source": [
    "# 末尾のN行を出力\n",
    "\n",
    "自然数Nをコマンドライン引数などの手段で受け取り，入力のうち末尾のN行だけを表示せよ．確認にはtailコマンドを用いよ．"
   ]
  },
  {
   "cell_type": "code",
   "execution_count": 19,
   "metadata": {
    "colab": {
     "base_uri": "https://localhost:8080/"
    },
    "executionInfo": {
     "elapsed": 4612,
     "status": "ok",
     "timestamp": 1729771162835,
     "user": {
      "displayName": "村上彰悟",
      "userId": "00958595423456349639"
     },
     "user_tz": -540
    },
    "id": "be3z10EvYio1",
    "outputId": "b13aa9d0-e835-4933-dde6-da7f9de50068"
   },
   "outputs": [
    {
     "name": "stdout",
     "output_type": "stream",
     "text": [
      "Benjamin\tM\t13381\t2018\n",
      "Elijah\tM\t12886\t2018\n",
      "Lucas\tM\t12585\t2018\n",
      "Mason\tM\t12435\t2018\n",
      "Logan\tM\t12352\t2018\n"
     ]
    }
   ],
   "source": [
    "with open(\"popular-names.txt\", \"r\") as f:\n",
    "    N = int(input())\n",
    "    lines = f.readlines()\n",
    "    for i in range(len(lines)-N, len(lines)):\n",
    "        lines[i] = lines[i].replace('\\n', '')\n",
    "        print(lines[i])"
   ]
  },
  {
   "cell_type": "code",
   "execution_count": 20,
   "metadata": {
    "colab": {
     "base_uri": "https://localhost:8080/"
    },
    "executionInfo": {
     "elapsed": 858,
     "status": "ok",
     "timestamp": 1729771278363,
     "user": {
      "displayName": "村上彰悟",
      "userId": "00958595423456349639"
     },
     "user_tz": -540
    },
    "id": "5zXycHhoZtnf",
    "outputId": "c1d2aab7-03f8-4c93-8675-2c79b66f7219"
   },
   "outputs": [
    {
     "name": "stdout",
     "output_type": "stream",
     "text": [
      "Benjamin\tM\t13381\t2018\n",
      "Elijah\tM\t12886\t2018\n",
      "Lucas\tM\t12585\t2018\n",
      "Mason\tM\t12435\t2018\n",
      "Logan\tM\t12352\t2018\n"
     ]
    }
   ],
   "source": [
    "!tail -n 5 \"popular-names.txt\""
   ]
  },
  {
   "cell_type": "markdown",
   "metadata": {
    "id": "CDpeiHz0eZm_"
   },
   "source": [
    "# 16. ファイルをN分割する\n",
    "\n",
    "自然数Nをコマンドライン引数などの手段で受け取り，入力のファイルを行単位でN分割せよ．同様の処理をsplitコマンドで実現せよ．"
   ]
  },
  {
   "cell_type": "code",
   "execution_count": 21,
   "metadata": {},
   "outputs": [],
   "source": [
    "def split_file(file_path, n):\n",
    "    with open(file_path, 'r') as f:\n",
    "        lines = f.readlines()\n",
    "        total_lines = len(lines)\n",
    "        lines_per_file = total_lines // n  # 各ファイルの行数\n",
    "        remainder = total_lines % n  # 余り\n",
    "\n",
    "    start = 0\n",
    "    for i in range(n):\n",
    "        if i < remainder:\n",
    "            end = start + lines_per_file + 1\n",
    "        else:\n",
    "            end = start + lines_per_file\n",
    "        part_lines = lines[start:end]\n",
    "\n",
    "        # 出力ファイルに書き込む\n",
    "        output_file = f\"part_{i+1}.txt\"\n",
    "        with open(output_file, 'w') as fc1:\n",
    "            fc1.writelines(part_lines)\n",
    "\n",
    "        start = end\n",
    "       \n",
    "        \n",
    "N=int(input())\n",
    "split_file(\"popular-names.txt\",N)\n"
   ]
  },
  {
   "cell_type": "code",
   "execution_count": 22,
   "metadata": {},
   "outputs": [
    {
     "name": "stdout",
     "output_type": "stream",
     "text": [
      "927 part_1.txt\n",
      "927 part_2.txt\n",
      "926 part_3.txt\n"
     ]
    }
   ],
   "source": [
    "!wc -l \"part_1.txt\"\n",
    "!wc -l \"part_2.txt\"\n",
    "!wc -l \"part_3.txt\""
   ]
  },
  {
   "cell_type": "code",
   "execution_count": 24,
   "metadata": {
    "colab": {
     "base_uri": "https://localhost:8080/"
    },
    "executionInfo": {
     "elapsed": 27099,
     "status": "ok",
     "timestamp": 1730108368410,
     "user": {
      "displayName": "村上彰悟",
      "userId": "00958595423456349639"
     },
     "user_tz": -540
    },
    "id": "ZCECzPI5ehU8",
    "outputId": "2a0633ee-d5ec-4edd-eeee-765d3cd0ea8e"
   },
   "outputs": [],
   "source": [
    "import numpy as np\n",
    "with open(\"popular-names.txt\", \"r\") as f:\n",
    "    N = int(input())\n",
    "    lines = f.readlines()\n",
    "    count = len(lines)\n",
    "    num_list = range(count)\n",
    "    div_list = np.array_split(num_list, N)\n",
    "    for i, div in enumerate(div_list, 1):\n",
    "        f = open(f\"{str(i).zfill(3)}.txt\", 'w')\n",
    "        for j in div:\n",
    "            f.write(lines[j])\n",
    "        f.close()"
   ]
  },
  {
   "cell_type": "code",
   "execution_count": 25,
   "metadata": {},
   "outputs": [
    {
     "name": "stdout",
     "output_type": "stream",
     "text": [
      "927 001.txt\n",
      "927 002.txt\n",
      "926 003.txt\n"
     ]
    }
   ],
   "source": [
    "!wc -l \"001.txt\"\n",
    "!wc -l \"002.txt\"\n",
    "!wc -l \"003.txt\""
   ]
  },
  {
   "cell_type": "code",
   "execution_count": 26,
   "metadata": {
    "executionInfo": {
     "elapsed": 417,
     "status": "ok",
     "timestamp": 1730109950097,
     "user": {
      "displayName": "村上彰悟",
      "userId": "00958595423456349639"
     },
     "user_tz": -540
    },
    "id": "H3urIlrvgGLp"
   },
   "outputs": [],
   "source": [
    "!split -n r/3 -d --numeric-suffixes=1 --additional-suffix=.txt \"popular-names.txt\" \"UNIX-\""
   ]
  },
  {
   "cell_type": "code",
   "execution_count": 27,
   "metadata": {},
   "outputs": [
    {
     "name": "stdout",
     "output_type": "stream",
     "text": [
      "927 UNIX-01.txt\n",
      "927 UNIX-02.txt\n",
      "926 UNIX-03.txt\n"
     ]
    }
   ],
   "source": [
    "!wc -l \"UNIX-01.txt\"\n",
    "!wc -l \"UNIX-02.txt\"\n",
    "!wc -l \"UNIX-03.txt\""
   ]
  },
  {
   "cell_type": "markdown",
   "metadata": {
    "id": "-xR6LayglwW2"
   },
   "source": [
    "# 17. １列目の文字列の異なり\n",
    "\n",
    "1列目の文字列の種類（異なる文字列の集合）を求めよ．確認にはcut, sort, uniqコマンドを用いよ．"
   ]
  },
  {
   "cell_type": "code",
   "execution_count": 28,
   "metadata": {},
   "outputs": [
    {
     "name": "stdout",
     "output_type": "stream",
     "text": [
      "Abigail\n",
      "Aiden\n",
      "Alexander\n",
      "Alexis\n",
      "Alice\n",
      "Amanda\n",
      "Amelia\n",
      "Amy\n",
      "Andrew\n",
      "Angela\n"
     ]
    }
   ],
   "source": [
    "with open(\"popular-names.txt\",\"r\") as f:\n",
    "    lines = f.readlines()\n",
    "    name=set()\n",
    "    for line in lines:\n",
    "        name.add(line.split()[0])\n",
    "    \n",
    "    name=sorted(name)\n",
    "    for i in range(10):\n",
    "        print(name[i])"
   ]
  },
  {
   "cell_type": "code",
   "execution_count": 29,
   "metadata": {
    "colab": {
     "base_uri": "https://localhost:8080/"
    },
    "executionInfo": {
     "elapsed": 382,
     "status": "ok",
     "timestamp": 1730111644240,
     "user": {
      "displayName": "村上彰悟",
      "userId": "00958595423456349639"
     },
     "user_tz": -540
    },
    "id": "K19Yk0pvl20O",
    "outputId": "63e187fc-f53c-471a-ad76-3fb618a92e27"
   },
   "outputs": [
    {
     "name": "stdout",
     "output_type": "stream",
     "text": [
      "Abigail\n",
      "Aiden\n",
      "Alexander\n",
      "Alexis\n",
      "Alice\n",
      "Amanda\n",
      "Amelia\n",
      "Amy\n",
      "Andrew\n",
      "Angela\n"
     ]
    }
   ],
   "source": [
    "import pandas as pd\n",
    "\n",
    "df = pd.read_csv('popular-names.txt', sep='\\t', header=None)\n",
    "ans = df[0].unique()\n",
    "ans.sort()\n",
    "for i in range(10):\n",
    "    print(ans[i])"
   ]
  },
  {
   "cell_type": "code",
   "execution_count": 30,
   "metadata": {
    "colab": {
     "base_uri": "https://localhost:8080/"
    },
    "executionInfo": {
     "elapsed": 698,
     "status": "ok",
     "timestamp": 1730111584684,
     "user": {
      "displayName": "村上彰悟",
      "userId": "00958595423456349639"
     },
     "user_tz": -540
    },
    "id": "1G69LmheruK0",
    "outputId": "20690a4c-f6ac-4151-d74e-273ec64b5281"
   },
   "outputs": [
    {
     "name": "stdout",
     "output_type": "stream",
     "text": [
      "Abigail\n",
      "Aiden\n",
      "Alexander\n",
      "Alexis\n",
      "Alice\n",
      "Amanda\n",
      "Amelia\n",
      "Amy\n",
      "Andrew\n",
      "Angela\n"
     ]
    }
   ],
   "source": [
    "!cut -f 1  \"popular-names.txt\" | sort | uniq | head -n 10 "
   ]
  },
  {
   "cell_type": "markdown",
   "metadata": {
    "id": "a848EZNxyGfc"
   },
   "source": [
    "# 18. 各行を3コラム目の数値の降順にソート\n",
    "\n",
    "各行を3コラム目の数値の逆順で整列せよ（注意: 各行の内容は変更せずに並び替えよ）．確認にはsortコマンドを用いよ（この問題はコマンドで実行した時の結果と合わなくてもよい）．"
   ]
  },
  {
   "cell_type": "code",
   "execution_count": 31,
   "metadata": {
    "colab": {
     "base_uri": "https://localhost:8080/"
    },
    "executionInfo": {
     "elapsed": 6,
     "status": "ok",
     "timestamp": 1730113925561,
     "user": {
      "displayName": "村上彰悟",
      "userId": "00958595423456349639"
     },
     "user_tz": -540
    },
    "id": "9PBz1lUhzMBK",
    "outputId": "4a8e589e-1f19-454f-def2-de389672685a"
   },
   "outputs": [
    {
     "name": "stdout",
     "output_type": "stream",
     "text": [
      "            0  1      2     3\n",
      "1340    Linda  F  99689  1947\n",
      "1360    Linda  F  96211  1948\n",
      "1350    James  M  94757  1947\n",
      "1550  Michael  M  92704  1957\n",
      "1351   Robert  M  91640  1947\n",
      "1380    Linda  F  91016  1949\n",
      "1530  Michael  M  90656  1956\n",
      "1570  Michael  M  90517  1958\n",
      "1370    James  M  88584  1948\n",
      "1490  Michael  M  88528  1954\n"
     ]
    }
   ],
   "source": [
    "import pandas as pd\n",
    "\n",
    "df = pd.read_csv('popular-names.txt', sep='\\t', header=None)\n",
    "ans = df.sort_values(by=2,ascending=False)\n",
    "print(ans.head(10))"
   ]
  },
  {
   "cell_type": "code",
   "execution_count": 32,
   "metadata": {
    "colab": {
     "base_uri": "https://localhost:8080/"
    },
    "executionInfo": {
     "elapsed": 488,
     "status": "ok",
     "timestamp": 1730115313600,
     "user": {
      "displayName": "村上彰悟",
      "userId": "00958595423456349639"
     },
     "user_tz": -540
    },
    "id": "pbWu5kqR1lNN",
    "outputId": "c902f8f3-d336-491c-dd25-375255ec17f9"
   },
   "outputs": [
    {
     "name": "stdout",
     "output_type": "stream",
     "text": [
      "Linda\tF\t99689\t1947\n",
      "Linda\tF\t96211\t1948\n",
      "James\tM\t94757\t1947\n",
      "Michael\tM\t92704\t1957\n",
      "Robert\tM\t91640\t1947\n",
      "Linda\tF\t91016\t1949\n",
      "Michael\tM\t90656\t1956\n",
      "Michael\tM\t90517\t1958\n",
      "James\tM\t88584\t1948\n",
      "Michael\tM\t88528\t1954\n",
      "sort: write failed: 'standard output': Broken pipe\n",
      "sort: write error\n"
     ]
    }
   ],
   "source": [
    "!sort -nrk 3 \"popular-names.txt\" | head -n 10"
   ]
  },
  {
   "cell_type": "markdown",
   "metadata": {
    "id": "cW6dkd1i6-Ej"
   },
   "source": [
    "# 19. 各行の1コラム目の文字列の出現頻度を求め，出現頻度の高い順に並べる\n",
    "\n",
    "各行の1列目の文字列の出現頻度を求め，その高い順に並べて表示せよ．確認にはcut, uniq, sortコマンドを用いよ．"
   ]
  },
  {
   "cell_type": "code",
   "execution_count": 33,
   "metadata": {
    "colab": {
     "base_uri": "https://localhost:8080/"
    },
    "executionInfo": {
     "elapsed": 647,
     "status": "ok",
     "timestamp": 1730116316382,
     "user": {
      "displayName": "村上彰悟",
      "userId": "00958595423456349639"
     },
     "user_tz": -540
    },
    "id": "SsbMa15x7EON",
    "outputId": "0e516453-4639-4cf4-ec2e-44be861df805"
   },
   "outputs": [
    {
     "name": "stdout",
     "output_type": "stream",
     "text": [
      "0\n",
      "James        118\n",
      "William      111\n",
      "Robert       108\n",
      "John         108\n",
      "Mary          92\n",
      "Charles       75\n",
      "Michael       74\n",
      "Elizabeth     73\n",
      "Joseph        70\n",
      "Margaret      60\n",
      "Name: count, dtype: int64\n"
     ]
    }
   ],
   "source": [
    "import pandas as pd\n",
    "\n",
    "df = pd.read_csv('popular-names.txt', sep='\\t', header=None)\n",
    "ans = df[0].value_counts()\n",
    "print(ans.head(10))"
   ]
  },
  {
   "cell_type": "code",
   "execution_count": 34,
   "metadata": {
    "colab": {
     "base_uri": "https://localhost:8080/"
    },
    "executionInfo": {
     "elapsed": 599,
     "status": "ok",
     "timestamp": 1730117786919,
     "user": {
      "displayName": "村上彰悟",
      "userId": "00958595423456349639"
     },
     "user_tz": -540
    },
    "id": "wgnLeB3MAXK_",
    "outputId": "cf9f6847-1ebf-4f2f-ae5c-9947c8e28ae9"
   },
   "outputs": [
    {
     "name": "stdout",
     "output_type": "stream",
     "text": [
      "    118 James\n",
      "    111 William\n",
      "    108 Robert\n",
      "    108 John\n",
      "     92 Mary\n",
      "     75 Charles\n",
      "     74 Michael\n",
      "     73 Elizabeth\n",
      "     70 Joseph\n",
      "     60 Margaret\n"
     ]
    }
   ],
   "source": [
    "!cut -f 1 \"popular-names.txt\" | sort | uniq -c | sort -nr | head -n 10"
   ]
  }
 ],
 "metadata": {
  "colab": {
   "authorship_tag": "ABX9TyP+GIZQQarcc87oc4ai8EwH",
   "mount_file_id": "15T5Wa6gIu7aVE5kJCzBUamPEO6eHXjtW",
   "provenance": []
  },
  "kernelspec": {
   "display_name": ".venv",
   "language": "python",
   "name": "python3"
  },
  "language_info": {
   "codemirror_mode": {
    "name": "ipython",
    "version": 3
   },
   "file_extension": ".py",
   "mimetype": "text/x-python",
   "name": "python",
   "nbconvert_exporter": "python",
   "pygments_lexer": "ipython3",
   "version": "3.10.12"
  }
 },
 "nbformat": 4,
 "nbformat_minor": 0
}
